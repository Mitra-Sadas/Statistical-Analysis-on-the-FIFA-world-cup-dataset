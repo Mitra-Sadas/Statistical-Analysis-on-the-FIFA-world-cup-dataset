{
 "cells": [
  {
   "cell_type": "code",
   "execution_count": 1,
   "id": "5ab4d0fb",
   "metadata": {},
   "outputs": [],
   "source": [
    "import numpy as np \n",
    "import pandas as pd \n",
    "import seaborn as sb \n",
    "import matplotlib.pyplot as plt \n",
    "import scipy.stats as stats "
   ]
  },
  {
   "cell_type": "code",
   "execution_count": 2,
   "id": "260339a1",
   "metadata": {},
   "outputs": [
    {
     "data": {
      "text/html": [
       "<div>\n",
       "<style scoped>\n",
       "    .dataframe tbody tr th:only-of-type {\n",
       "        vertical-align: middle;\n",
       "    }\n",
       "\n",
       "    .dataframe tbody tr th {\n",
       "        vertical-align: top;\n",
       "    }\n",
       "\n",
       "    .dataframe thead th {\n",
       "        text-align: right;\n",
       "    }\n",
       "</style>\n",
       "<table border=\"1\" class=\"dataframe\">\n",
       "  <thead>\n",
       "    <tr style=\"text-align: right;\">\n",
       "      <th></th>\n",
       "      <th>Name</th>\n",
       "      <th>Age</th>\n",
       "      <th>Nationality</th>\n",
       "      <th>Overall_rating</th>\n",
       "      <th>Potential</th>\n",
       "      <th>Club</th>\n",
       "      <th>Preferred Foot</th>\n",
       "      <th>International Reputation</th>\n",
       "      <th>Weak Foot</th>\n",
       "      <th>Skill Moves</th>\n",
       "      <th>Work Rate</th>\n",
       "      <th>Position</th>\n",
       "      <th>Jersey Number</th>\n",
       "      <th>Height</th>\n",
       "      <th>Weight</th>\n",
       "    </tr>\n",
       "  </thead>\n",
       "  <tbody>\n",
       "    <tr>\n",
       "      <th>0</th>\n",
       "      <td>L. Messi</td>\n",
       "      <td>31</td>\n",
       "      <td>Argentina</td>\n",
       "      <td>94</td>\n",
       "      <td>94</td>\n",
       "      <td>FC Barcelona</td>\n",
       "      <td>Left</td>\n",
       "      <td>5</td>\n",
       "      <td>4</td>\n",
       "      <td>4</td>\n",
       "      <td>Medium/ Medium</td>\n",
       "      <td>RF</td>\n",
       "      <td>10</td>\n",
       "      <td>5.583333</td>\n",
       "      <td>159</td>\n",
       "    </tr>\n",
       "    <tr>\n",
       "      <th>1</th>\n",
       "      <td>Cristiano Ronaldo</td>\n",
       "      <td>33</td>\n",
       "      <td>Portugal</td>\n",
       "      <td>94</td>\n",
       "      <td>94</td>\n",
       "      <td>Juventus</td>\n",
       "      <td>Right</td>\n",
       "      <td>5</td>\n",
       "      <td>4</td>\n",
       "      <td>5</td>\n",
       "      <td>High/ Low</td>\n",
       "      <td>ST</td>\n",
       "      <td>7</td>\n",
       "      <td>6.166667</td>\n",
       "      <td>183</td>\n",
       "    </tr>\n",
       "    <tr>\n",
       "      <th>2</th>\n",
       "      <td>Neymar Jr</td>\n",
       "      <td>26</td>\n",
       "      <td>Brazil</td>\n",
       "      <td>92</td>\n",
       "      <td>93</td>\n",
       "      <td>Paris Saint-Germain</td>\n",
       "      <td>Right</td>\n",
       "      <td>5</td>\n",
       "      <td>5</td>\n",
       "      <td>5</td>\n",
       "      <td>High/ Medium</td>\n",
       "      <td>LW</td>\n",
       "      <td>10</td>\n",
       "      <td>5.750000</td>\n",
       "      <td>150</td>\n",
       "    </tr>\n",
       "    <tr>\n",
       "      <th>3</th>\n",
       "      <td>De Gea</td>\n",
       "      <td>27</td>\n",
       "      <td>Spain</td>\n",
       "      <td>91</td>\n",
       "      <td>93</td>\n",
       "      <td>Manchester United</td>\n",
       "      <td>Right</td>\n",
       "      <td>4</td>\n",
       "      <td>3</td>\n",
       "      <td>1</td>\n",
       "      <td>Medium/ Medium</td>\n",
       "      <td>GK</td>\n",
       "      <td>1</td>\n",
       "      <td>6.333333</td>\n",
       "      <td>168</td>\n",
       "    </tr>\n",
       "    <tr>\n",
       "      <th>4</th>\n",
       "      <td>K. De Bruyne</td>\n",
       "      <td>27</td>\n",
       "      <td>Belgium</td>\n",
       "      <td>91</td>\n",
       "      <td>92</td>\n",
       "      <td>Manchester City</td>\n",
       "      <td>Right</td>\n",
       "      <td>4</td>\n",
       "      <td>5</td>\n",
       "      <td>4</td>\n",
       "      <td>High/ High</td>\n",
       "      <td>RCM</td>\n",
       "      <td>7</td>\n",
       "      <td>5.083333</td>\n",
       "      <td>154</td>\n",
       "    </tr>\n",
       "  </tbody>\n",
       "</table>\n",
       "</div>"
      ],
      "text/plain": [
       "                Name  Age Nationality  Overall_rating  Potential  \\\n",
       "0           L. Messi   31   Argentina              94         94   \n",
       "1  Cristiano Ronaldo   33    Portugal              94         94   \n",
       "2          Neymar Jr   26      Brazil              92         93   \n",
       "3             De Gea   27       Spain              91         93   \n",
       "4       K. De Bruyne   27     Belgium              91         92   \n",
       "\n",
       "                  Club Preferred Foot  International Reputation  Weak Foot  \\\n",
       "0         FC Barcelona           Left                         5          4   \n",
       "1             Juventus          Right                         5          4   \n",
       "2  Paris Saint-Germain          Right                         5          5   \n",
       "3    Manchester United          Right                         4          3   \n",
       "4      Manchester City          Right                         4          5   \n",
       "\n",
       "   Skill Moves       Work Rate Position  Jersey Number    Height  Weight  \n",
       "0            4  Medium/ Medium       RF             10  5.583333     159  \n",
       "1            5       High/ Low       ST              7  6.166667     183  \n",
       "2            5    High/ Medium       LW             10  5.750000     150  \n",
       "3            1  Medium/ Medium       GK              1  6.333333     168  \n",
       "4            4      High/ High      RCM              7  5.083333     154  "
      ]
     },
     "execution_count": 2,
     "metadata": {},
     "output_type": "execute_result"
    }
   ],
   "source": [
    "dfifa=pd.read_csv('fifa_stats.csv')\n",
    "dfifa.head()"
   ]
  },
  {
   "cell_type": "code",
   "execution_count": 3,
   "id": "02f09106",
   "metadata": {},
   "outputs": [
    {
     "name": "stdout",
     "output_type": "stream",
     "text": [
      "<class 'pandas.core.frame.DataFrame'>\n",
      "RangeIndex: 2000 entries, 0 to 1999\n",
      "Data columns (total 15 columns):\n",
      " #   Column                    Non-Null Count  Dtype  \n",
      "---  ------                    --------------  -----  \n",
      " 0   Name                      2000 non-null   object \n",
      " 1   Age                       2000 non-null   int64  \n",
      " 2   Nationality               2000 non-null   object \n",
      " 3   Overall_rating            2000 non-null   int64  \n",
      " 4   Potential                 2000 non-null   int64  \n",
      " 5   Club                      1981 non-null   object \n",
      " 6   Preferred Foot            2000 non-null   object \n",
      " 7   International Reputation  2000 non-null   int64  \n",
      " 8   Weak Foot                 2000 non-null   int64  \n",
      " 9   Skill Moves               2000 non-null   int64  \n",
      " 10  Work Rate                 2000 non-null   object \n",
      " 11  Position                  2000 non-null   object \n",
      " 12  Jersey Number             2000 non-null   int64  \n",
      " 13  Height                    2000 non-null   float64\n",
      " 14  Weight                    2000 non-null   int64  \n",
      "dtypes: float64(1), int64(8), object(6)\n",
      "memory usage: 234.5+ KB\n"
     ]
    }
   ],
   "source": [
    "dfifa.info()"
   ]
  },
  {
   "cell_type": "code",
   "execution_count": 4,
   "id": "3ad955b4",
   "metadata": {},
   "outputs": [
    {
     "data": {
      "text/plain": [
       "2000"
      ]
     },
     "execution_count": 4,
     "metadata": {},
     "output_type": "execute_result"
    }
   ],
   "source": [
    "len(dfifa)"
   ]
  },
  {
   "cell_type": "code",
   "execution_count": 9,
   "id": "18a1ee41",
   "metadata": {},
   "outputs": [
    {
     "data": {
      "text/plain": [
       "Name                        0.00\n",
       "Age                         0.00\n",
       "Nationality                 0.00\n",
       "Overall_rating              0.00\n",
       "Potential                   0.00\n",
       "Club                        0.95\n",
       "Preferred Foot              0.00\n",
       "International Reputation    0.00\n",
       "Weak Foot                   0.00\n",
       "Skill Moves                 0.00\n",
       "Work Rate                   0.00\n",
       "Position                    0.00\n",
       "Jersey Number               0.00\n",
       "Height                      0.00\n",
       "Weight                      0.00\n",
       "dtype: float64"
      ]
     },
     "execution_count": 9,
     "metadata": {},
     "output_type": "execute_result"
    }
   ],
   "source": [
    "dfifa.isnull().sum()/len(dfifa)*100"
   ]
  },
  {
   "cell_type": "code",
   "execution_count": 15,
   "id": "2323cd36",
   "metadata": {},
   "outputs": [],
   "source": [
    "# we could observe that null values presence in club feature, i.e, 0.95% which is significantly less. \n",
    "#so, we can go ahead and drop the null values.\n",
    "\n",
    "dfifa.dropna(inplace=True)\n"
   ]
  },
  {
   "cell_type": "code",
   "execution_count": 18,
   "id": "33830099",
   "metadata": {},
   "outputs": [
    {
     "name": "stdout",
     "output_type": "stream",
     "text": [
      "1951\n",
      "['L. Messi' 'Cristiano Ronaldo' 'Neymar Jr' ... 'A. Elis' 'M. FernÃ¡ndez'\n",
      " 'D. RodrÃ\\xadguez']\n"
     ]
    }
   ],
   "source": [
    "print(dfifa.Name.nunique())\n",
    "print(dfifa.Name.unique())"
   ]
  },
  {
   "cell_type": "code",
   "execution_count": 19,
   "id": "284f5fcf",
   "metadata": {
    "collapsed": true
   },
   "outputs": [
    {
     "name": "stdout",
     "output_type": "stream",
     "text": [
      "95\n",
      "['Argentina' 'Portugal' 'Brazil' 'Spain' 'Belgium' 'Croatia' 'Uruguay'\n",
      " 'Slovenia' 'Poland' 'Germany' 'France' 'England' 'Italy' 'Egypt'\n",
      " 'Colombia' 'Denmark' 'Gabon' 'Wales' 'Senegal' 'Costa Rica' 'Slovakia'\n",
      " 'Netherlands' 'Bosnia Herzegovina' 'Morocco' 'Serbia' 'Algeria' 'Austria'\n",
      " 'Greece' 'Chile' 'Sweden' 'Korea Republic' 'Finland' 'Guinea'\n",
      " 'Montenegro' 'Armenia' 'Switzerland' 'Norway' 'Czech Republic' 'Scotland'\n",
      " 'Ghana' 'Central African Rep.' 'DR Congo' 'Ivory Coast' 'Russia'\n",
      " 'Ukraine' 'Iceland' 'Mexico' 'Jamaica' 'Albania' 'Venezuela' 'Japan'\n",
      " 'Turkey' 'Ecuador' 'Paraguay' 'Mali' 'Nigeria' 'Cameroon'\n",
      " 'Dominican Republic' 'Israel' 'Kenya' 'Hungary' 'Republic of Ireland'\n",
      " 'Romania' 'United States' 'Cape Verde' 'Australia' 'Peru' 'Togo' 'Syria'\n",
      " 'Zimbabwe' 'Angola' 'Burkina Faso' 'Iran' 'Estonia' 'Tunisia'\n",
      " 'Equatorial Guinea' 'New Zealand' 'FYR Macedonia' 'United Arab Emirates'\n",
      " 'China PR' 'Guinea Bissau' 'Bulgaria' 'Kosovo' 'South Africa'\n",
      " 'Madagascar' 'Georgia' 'Tanzania' 'Gambia' 'Cuba' 'Belarus' 'Uzbekistan'\n",
      " 'Benin' 'Congo' 'Mozambique' 'Honduras']\n"
     ]
    }
   ],
   "source": [
    "print(dfifa.Nationality.nunique())\n",
    "print(dfifa.Nationality.unique())"
   ]
  },
  {
   "cell_type": "code",
   "execution_count": 20,
   "id": "5bff701b",
   "metadata": {
    "collapsed": true
   },
   "outputs": [
    {
     "name": "stdout",
     "output_type": "stream",
     "text": [
      "285\n",
      "['FC Barcelona' 'Juventus' 'Paris Saint-Germain' 'Manchester United'\n",
      " 'Manchester City' 'Chelsea' 'Real Madrid' 'AtlÃ©tico Madrid'\n",
      " 'FC Bayern MÃ¼nchen' 'Tottenham Hotspur' 'Liverpool' 'Napoli' 'Arsenal'\n",
      " 'Milan' 'Inter' 'Lazio' 'Borussia Dortmund' 'Vissel Kobe'\n",
      " 'Olympique Lyonnais' 'Roma' 'Valencia CF'\n",
      " 'Guangzhou Evergrande Taobao FC' 'FC Porto' 'FC Schalke 04'\n",
      " 'BeÅŸiktaÅŸ JK' 'LA Galaxy' 'Sporting CP' 'Real Betis'\n",
      " 'Olympique de Marseille' 'RC Celta' 'Bayer 04 Leverkusen' 'Real Sociedad'\n",
      " 'Villarreal CF' 'Sevilla FC' 'SL Benfica' 'AS Saint-Ã‰tienne' 'AS Monaco'\n",
      " 'Leicester City' 'Atalanta' 'GrÃªmio' 'AtlÃ©tico Mineiro' 'RB Leipzig'\n",
      " 'Ajax' 'Dalian YiFang FC' 'Everton' 'West Ham United' '1. FC KÃ¶ln'\n",
      " 'TSG 1899 Hoffenheim' 'Shanghai SIPG FC' 'OGC Nice' 'Al Nassr'\n",
      " 'Wolverhampton Wanderers' 'Borussia MÃ¶nchengladbach' 'Hertha BSC'\n",
      " 'SV Werder Bremen' 'Cruzeiro' 'Athletic Club de Bilbao' 'Torino'\n",
      " 'Medipol BaÅŸakÅŸehir FK' 'Beijing Sinobo Guoan FC' 'Crystal Palace'\n",
      " 'PFC CSKA Moscow' 'VfL Wolfsburg' 'Shakhtar Donetsk' 'Toronto FC'\n",
      " 'Lokomotiv Moscow' 'Sassuolo' 'New York City FC' 'Fluminense' 'PSV'\n",
      " 'Levante UD' 'Fulham' 'Watford' 'Atlanta United' 'Montpellier HSC'\n",
      " 'Galatasaray SK' 'FenerbahÃ§e SK' 'SD Eibar' 'Los Angeles FC' 'Sampdoria'\n",
      " 'Al Hilal' 'VfB Stuttgart' 'SC Braga' 'River Plate' 'Deportivo AlavÃ©s'\n",
      " 'Eintracht Frankfurt' 'Girona FC' 'Guangzhou R&F; FC' 'Burnley'\n",
      " 'Stoke City' 'Southampton' 'Tianjin Quanjian FC' 'Getafe CF'\n",
      " 'Beijing Renhe FC' 'Montreal Impact' 'Chievo Verona' 'Genoa'\n",
      " 'Portland Timbers' 'Tigres U.A.N.L.' 'RCD Espanyol'\n",
      " 'Hebei China Fortune FC' 'Cagliari' 'Chicago Fire' 'DC United'\n",
      " 'Sagan Tosu' 'Dynamo Kyiv' 'Santos' 'Internacional'\n",
      " 'AmÃ©rica FC (Minas Gerais)' 'Independiente' 'Boca Juniors' 'Cruz Azul'\n",
      " '1. FSV Mainz 05' 'Bournemouth' 'Spartak Moscow' 'Racing Club'\n",
      " 'FC Augsburg' 'Fiorentina' 'FC Nantes' 'Feyenoord' 'Club Brugge KV'\n",
      " 'Brighton & Hove Albion' 'Al Ahli' 'Jiangsu Suning FC' 'SC Freiburg'\n",
      " 'PAOK' 'Stade Rennais FC' 'Trabzonspor' 'SPAL' 'Portimonense SC'\n",
      " 'Olympiacos CFP' 'Club AtlÃ©tico HuracÃ¡n' 'KasimpaÅŸa SK'\n",
      " 'Newcastle United' 'Frosinone' 'QuerÃ©taro' 'KRC Genk' 'Hannover 96'\n",
      " 'Stade Malherbe Caen' 'Godoy Cruz' 'Toulouse Football Club'\n",
      " 'RSC Anderlecht' 'Huddersfield Town' 'CD Tondela' 'Seattle Sounders FC'\n",
      " 'Hamburger SV' 'FC Red Bull Salzburg' 'Rio Ave FC'\n",
      " 'FC Girondins de Bordeaux' 'Melbourne Victory' 'Parma' 'FC Basel 1893'\n",
      " 'Al Wehda' 'BSC Young Boys' 'KAA Gent' 'Al Ittihad' 'Standard de LiÃ¨ge'\n",
      " 'Shanghai Greenland Shenhua FC' 'Colo-Colo' 'Junior FC'\n",
      " 'West Bromwich Albion' 'RC Strasbourg Alsace' 'GÃ¶ztepe SK'\n",
      " 'Deportivo Cali' 'Deportivo Toluca' 'Bologna' 'Nagoya Grampus'\n",
      " 'Amiens SC' 'Changchun Yatai FC' 'Club AtlÃ©tico LanÃºs' 'Botafogo'\n",
      " 'Club AmÃ©rica' 'Udinese' 'Real Valladolid CF' 'CD LeganÃ©s'\n",
      " 'Club AtlÃ©tico Banfield' 'Celtic' 'VitÃ³ria GuimarÃ£es' 'FC KÃ¸benhavn'\n",
      " 'UD Las Palmas' 'Deportivo de La CoruÃ±a' 'Universidad CatÃ³lica'\n",
      " 'San Lorenzo de Almagro' 'Rayo Vallecano' 'Monterrey' 'Columbus Crew SC'\n",
      " 'MKE AnkaragÃ¼cÃ¼' 'Guizhou Hengfeng FC' 'Swansea City' 'Tianjin TEDA FC'\n",
      " 'Chongqing Dangdai Lifan FC SWM Team' 'AEK Athens' 'Al Taawoun'\n",
      " 'Melbourne City FC' 'En Avant de Guingamp' 'Akhisar Belediyespor'\n",
      " 'Foggia' 'LOSC Lille' '1. FC NÃ¼rnberg' 'Clube Sport MarÃ\\xadtimo'\n",
      " 'Real Sporting de GijÃ³n' 'BB Erzurumspor' 'Shandong Luneng TaiShan FC'\n",
      " 'Club AtlÃ©tico ColÃ³n' 'Bahia' 'Once Caldas' 'FC Groningen' 'Angers SCO'\n",
      " 'ParanÃ¡' 'Antalyaspor' 'Minnesota United FC' 'Club LeÃ³n' 'Empoli'\n",
      " 'VVV-Venlo' 'Leeds United' 'Viktoria PlzeÅˆ' 'Alanyaspor'\n",
      " 'AtlÃ©tico Paranaense' 'Derby County' 'Kawasaki Frontale' 'Cardiff City'\n",
      " 'Aston Villa' 'Guadalajara' 'Dijon FCO' 'Santos Laguna' 'MÃ¡laga CF'\n",
      " 'VitÃ³ria' 'Ã‡aykur Rizespor' 'U.N.A.M.' 'Nottingham Forest'\n",
      " 'Royal Antwerp FC' 'Club Tijuana' 'Sport Club do Recife' 'Real Salt Lake'\n",
      " 'AZ Alkmaar' 'SK Slavia Praha' 'Willem II' 'Middlesbrough'\n",
      " 'Dinamo Zagreb' 'Club Atlas' 'Granada CF' 'Sydney FC'\n",
      " 'Sporting Kansas City' 'SV Zulte-Waregem' 'Philadelphia Union'\n",
      " 'Real Oviedo' 'Pachuca' 'Boavista FC' 'Atiker Konyaspor' 'Kaizer Chiefs'\n",
      " 'GD Chaves' 'Palermo' 'AtlÃ©tico Nacional' 'Puebla FC' 'Perth Glory'\n",
      " 'Panathinaikos FC' 'FC Sion' 'VitÃ³ria de SetÃºbal' 'New York Red Bulls'\n",
      " 'Al Shabab' 'Monarcas Morelia' 'Albacete BP' 'Rangers FC' 'Sparta Praha'\n",
      " 'Legia Warszawa' 'Urawa Red Diamonds' 'Rosario Central' 'Stade de Reims'\n",
      " 'ADO Den Haag' 'Chapecoense' 'FC Midtjylland' 'San Jose Earthquakes'\n",
      " 'Belgrano de CÃ³rdoba' 'Brescia' 'Kashima Antlers'\n",
      " 'CD Everton de ViÃ±a del Mar' 'Fortuna DÃ¼sseldorf' 'SD Huesca'\n",
      " 'Preston North End' 'Club AtlÃ©tico Talleres' 'Benevento' 'Vitesse'\n",
      " 'Gimnasia y Esgrima La Plata' 'Houston Dynamo' 'Club Necaxa']\n"
     ]
    }
   ],
   "source": [
    "print(dfifa.Club.nunique())\n",
    "print(dfifa.Club.unique())"
   ]
  },
  {
   "cell_type": "code",
   "execution_count": 21,
   "id": "d1c72c47",
   "metadata": {},
   "outputs": [
    {
     "name": "stdout",
     "output_type": "stream",
     "text": [
      "2\n",
      "['Left' 'Right']\n"
     ]
    }
   ],
   "source": [
    "print(dfifa['Preferred Foot'].nunique())\n",
    "print(dfifa['Preferred Foot'].unique())"
   ]
  },
  {
   "cell_type": "code",
   "execution_count": 22,
   "id": "3ebb2708",
   "metadata": {},
   "outputs": [
    {
     "name": "stdout",
     "output_type": "stream",
     "text": [
      "8\n",
      "['Medium/ Medium' 'High/ Low' 'High/ Medium' 'High/ High' 'Medium/ High'\n",
      " 'Medium/ Low' 'Low/ High' 'Low/ Medium']\n"
     ]
    }
   ],
   "source": [
    "print(dfifa['Work Rate'].nunique())\n",
    "print(dfifa['Work Rate'].unique())"
   ]
  },
  {
   "cell_type": "code",
   "execution_count": 23,
   "id": "c994c34f",
   "metadata": {},
   "outputs": [
    {
     "name": "stdout",
     "output_type": "stream",
     "text": [
      "27\n",
      "['RF' 'ST' 'LW' 'GK' 'RCM' 'LF' 'RS' 'RCB' 'LCM' 'CB' 'LDM' 'CAM' 'CDM'\n",
      " 'LS' 'LCB' 'RM' 'LAM' 'LM' 'LB' 'RDM' 'RW' 'CM' 'RB' 'RAM' 'CF' 'RWB'\n",
      " 'LWB']\n"
     ]
    }
   ],
   "source": [
    "print(dfifa['Position'].nunique())\n",
    "print(dfifa['Position'].unique())"
   ]
  },
  {
   "cell_type": "code",
   "execution_count": 56,
   "id": "51334184",
   "metadata": {},
   "outputs": [
    {
     "name": "stdout",
     "output_type": "stream",
     "text": [
      "5\n",
      "[4 5 1 3 2]\n"
     ]
    }
   ],
   "source": [
    "print(dfifa['Skill Moves'].nunique())\n",
    "print(dfifa['Skill Moves'].unique())"
   ]
  },
  {
   "cell_type": "markdown",
   "id": "84ed7e1e",
   "metadata": {},
   "source": [
    "#### a) Assumed age as population, performed the central limit theorem with sample size of 200. Found the standard error and the mean of sampling distribution. Compared the results with population mean and standard deviation. Explained in non-technical terms why the estimated standard error of a sample mean tends to decrease with an increase in sample size."
   ]
  },
  {
   "cell_type": "code",
   "execution_count": 33,
   "id": "d84bbeff",
   "metadata": {},
   "outputs": [
    {
     "data": {
      "text/plain": [
       "(27.25105, 0.2814386696022327)"
      ]
     },
     "execution_count": 33,
     "metadata": {},
     "output_type": "execute_result"
    }
   ],
   "source": [
    "pop=dfifa.Age\n",
    "sample_size=200\n",
    "no_of_samples=100\n",
    "sample_mean_list=[]\n",
    "\n",
    "for s in range(no_of_samples):\n",
    "    \n",
    "    sample=np.random.choice(pop,size=200,replace=True)\n",
    "    sample_mean=np.mean(sample)\n",
    "    sample_mean_list.append(sample_mean)\n",
    "\n",
    "np.mean(sample_mean_list),np.std(sample_mean_list,ddof=1)"
   ]
  },
  {
   "cell_type": "code",
   "execution_count": 45,
   "id": "22e24aa2",
   "metadata": {},
   "outputs": [
    {
     "name": "stdout",
     "output_type": "stream",
     "text": [
      "Population Mean: 27.215547703180214\n",
      "Population standard deviation: 3.8525185996930396\n"
     ]
    }
   ],
   "source": [
    "pop=dfifa.Age\n",
    "\n",
    "print('Population Mean:',np.mean(dfifa.Age))\n",
    "print('Population standard deviation:',np.std(dfifa.Age,ddof=1))"
   ]
  },
  {
   "cell_type": "code",
   "execution_count": 42,
   "id": "fd11952a",
   "metadata": {},
   "outputs": [
    {
     "name": "stdout",
     "output_type": "stream",
     "text": [
      "Sample Mean: 26.905\n",
      "Standard Error: 0.27241420264902505\n"
     ]
    }
   ],
   "source": [
    "sample_size=200\n",
    "sample=np.random.choice(pop,size=sample_size,replace=True)\n",
    "print('Sample Mean:',np.mean(sample))\n",
    "print('Standard Error:',np.std(dfifa.Age,ddof=1)/np.sqrt(sample_size))"
   ]
  },
  {
   "cell_type": "code",
   "execution_count": 43,
   "id": "fee5570a",
   "metadata": {},
   "outputs": [
    {
     "name": "stdout",
     "output_type": "stream",
     "text": [
      "Sample Mean: 27.385\n",
      "Standard Error: 0.19262592998465197\n"
     ]
    }
   ],
   "source": [
    "#sample size increase to 400\n",
    "sample_size=400\n",
    "sample=np.random.choice(pop,size=sample_size,replace=True)\n",
    "print('Sample Mean:',np.mean(sample))\n",
    "print('Standard Error:',np.std(dfifa.Age,ddof=1)/np.sqrt(sample_size))"
   ]
  },
  {
   "cell_type": "code",
   "execution_count": 44,
   "id": "49bcd96e",
   "metadata": {},
   "outputs": [
    {
     "name": "stdout",
     "output_type": "stream",
     "text": [
      "Sample Mean: 27.315\n",
      "Standard Error: 0.15727841323049188\n"
     ]
    }
   ],
   "source": [
    "#sample size increase to 600\n",
    "sample_size=600\n",
    "sample=np.random.choice(pop,size=sample_size,replace=True)\n",
    "print('Sample Mean:',np.mean(sample))\n",
    "print('Standard Error:',np.std(dfifa.Age,ddof=1)/np.sqrt(sample_size))"
   ]
  },
  {
   "cell_type": "code",
   "execution_count": null,
   "id": "470b6fc2",
   "metadata": {},
   "outputs": [],
   "source": [
    "#INFERENCE:\n",
    "# As we could obeserve the standard error keeps decreasing with increase in sample size. \n",
    "# As the sample size increase the distribution become more normal, thereby decreasing the standard eror."
   ]
  },
  {
   "cell_type": "markdown",
   "id": "19786689",
   "metadata": {},
   "source": [
    "### b) Provided evidence that the players overall rating is greater than 80."
   ]
  },
  {
   "cell_type": "code",
   "execution_count": 47,
   "id": "b027ccc0",
   "metadata": {},
   "outputs": [
    {
     "data": {
      "text/plain": [
       "count    1981.000000\n",
       "mean       78.212014\n",
       "std         3.293624\n",
       "min        75.000000\n",
       "25%        76.000000\n",
       "50%        77.000000\n",
       "75%        80.000000\n",
       "max        94.000000\n",
       "Name: Overall_rating, dtype: float64"
      ]
     },
     "execution_count": 47,
     "metadata": {},
     "output_type": "execute_result"
    }
   ],
   "source": [
    "dfifa.Overall_rating.describe()"
   ]
  },
  {
   "cell_type": "code",
   "execution_count": 48,
   "id": "f1b150cb",
   "metadata": {},
   "outputs": [
    {
     "data": {
      "text/plain": [
       "Ttest_1sampResult(statistic=-24.161970492711205, pvalue=3.0006946846662113e-113)"
      ]
     },
     "execution_count": 48,
     "metadata": {},
     "output_type": "execute_result"
    }
   ],
   "source": [
    "#continuous variable \n",
    "\n",
    "#one sample t test \n",
    "\n",
    "#Hypothesis formation\n",
    "# Ho: mu = 80 \n",
    "# Ha: mu !=80\n",
    "\n",
    "stats.ttest_1samp(dfifa.Overall_rating,popmean=80)"
   ]
  },
  {
   "cell_type": "code",
   "execution_count": null,
   "id": "e08a9f9c",
   "metadata": {},
   "outputs": [],
   "source": [
    "# pvalue=0.0\n",
    "# siglvl=0.05\n",
    "# pvalue<siglvl, hence, Ho is rejected and Ha is selected \n",
    "# Here, tstat value is negative, implies , the average overall rating is less than 80\n",
    "# Thus the claim is false. There is NO evidence that the players overall rating is greater than 80"
   ]
  },
  {
   "cell_type": "markdown",
   "id": "e04eef55",
   "metadata": {},
   "source": [
    "### c) Performed the statistical test to identify whether preferred foot has any impact on potential. Also, performed the graphical analysis."
   ]
  },
  {
   "cell_type": "code",
   "execution_count": 51,
   "id": "c68c97a0",
   "metadata": {},
   "outputs": [
    {
     "data": {
      "text/plain": [
       "Ttest_indResult(statistic=1.6316202307100005, pvalue=0.1029186188520214)"
      ]
     },
     "execution_count": 51,
     "metadata": {},
     "output_type": "execute_result"
    }
   ],
   "source": [
    "# preferred foot (categorical)\n",
    "# Potential(Numerical)\n",
    "\n",
    "# two sample independent t test\n",
    "\n",
    "#hypothesis formation\n",
    "# Ho: mu_Potential_left=mu_potential_right (No effect)\n",
    "# Ha: mu_Potential_left!=mu_potential_right (effect)\n",
    "\n",
    "left=dfifa[dfifa['Preferred Foot']=='Left']['Potential']\n",
    "right=dfifa[dfifa['Preferred Foot']=='Right']['Potential']\n",
    "\n",
    "stats.ttest_ind(left,right)"
   ]
  },
  {
   "cell_type": "code",
   "execution_count": null,
   "id": "6e177989",
   "metadata": {},
   "outputs": [],
   "source": [
    "#INFERNCE:\n",
    "# Pvalue=0.102\n",
    "# Siglvl=0.05\n",
    "# Pvalue>Siglvl, hence, Ho is selected \n",
    "# Implies, There is no effect on potential with respect to prefered foot "
   ]
  },
  {
   "cell_type": "code",
   "execution_count": 53,
   "id": "b1d81f0a",
   "metadata": {},
   "outputs": [
    {
     "data": {
      "image/png": "[encoded data removed]",
      "text/plain": [
       "<Figure size 432x288 with 1 Axes>"
      ]
     },
     "metadata": {
      "needs_background": "light"
     },
     "output_type": "display_data"
    }
   ],
   "source": [
    "sb.boxplot(data=dfifa,x=dfifa['Preferred Foot'],y=dfifa['Potential'])\n",
    "plt.show()"
   ]
  },
  {
   "cell_type": "code",
   "execution_count": null,
   "id": "298688b5",
   "metadata": {},
   "outputs": [],
   "source": [
    "INFERENCE:\n",
    "# From the above graph, it is clearly observed that, the average/median of potential for both the feet is same. \n",
    "#Hence, there wont be any significant impact of foot on potential of the player"
   ]
  },
  {
   "cell_type": "markdown",
   "id": "da266a55",
   "metadata": {},
   "source": [
    "### d) Performed the statistical test to identify the relation between the overall rating and potential."
   ]
  },
  {
   "cell_type": "code",
   "execution_count": 54,
   "id": "4ce41c8f",
   "metadata": {},
   "outputs": [
    {
     "data": {
      "text/plain": [
       "(0.732085835890994, 0.0)"
      ]
     },
     "execution_count": 54,
     "metadata": {},
     "output_type": "execute_result"
    }
   ],
   "source": [
    "#Pearson r relation test\n",
    "\n",
    "# Hypothesis formation\n",
    "# Ho: corr=0 (no effect/no relation)\n",
    "# Ha: corr!=0 (effect/relation)\n",
    "\n",
    "stats.pearsonr(dfifa['Overall_rating'],dfifa['Potential'])"
   ]
  },
  {
   "cell_type": "code",
   "execution_count": null,
   "id": "4790cdba",
   "metadata": {},
   "outputs": [],
   "source": [
    "INFERENCE:\n",
    "# Pvalue=0.0\n",
    "# Siglvl=0.05\n",
    "# Pvalue<Siglvl, Hence, Ho is rejected, Ha is selected\n",
    "# Implies, there is a relation between the overall rating and potential."
   ]
  },
  {
   "cell_type": "code",
   "execution_count": 55,
   "id": "6b02e458",
   "metadata": {},
   "outputs": [
    {
     "data": {
      "text/plain": [
       "Ttest_indResult(statistic=-17.86119755089141, pvalue=1.0957726628240538e-68)"
      ]
     },
     "execution_count": 55,
     "metadata": {},
     "output_type": "execute_result"
    }
   ],
   "source": [
    "# Using 2 sample t test\n",
    "stats.ttest_ind(dfifa['Overall_rating'],dfifa['Potential'])"
   ]
  },
  {
   "cell_type": "code",
   "execution_count": null,
   "id": "bef08703",
   "metadata": {},
   "outputs": [],
   "source": [
    "INFERENCE:\n",
    "# Pvalue=0.0\n",
    "# Siglvl=0.05\n",
    "# Pvalue<Siglvl, Hence, Ho is rejected, Ha is selected\n",
    "# Implies, there is a relation between the overall rating and potential."
   ]
  },
  {
   "cell_type": "markdown",
   "id": "12ec991f",
   "metadata": {},
   "source": [
    "### e) Does skill move have any effect in overall rating? Perform the graphical analysis and the statistical analysis."
   ]
  },
  {
   "cell_type": "code",
   "execution_count": 59,
   "id": "d64b4bc8",
   "metadata": {},
   "outputs": [
    {
     "data": {
      "text/plain": [
       "(0.08303643058332785, 0.00021570230856720446)"
      ]
     },
     "execution_count": 59,
     "metadata": {},
     "output_type": "execute_result"
    }
   ],
   "source": [
    "stats.pearsonr(dfifa['Overall_rating'],dfifa['Skill Moves'])"
   ]
  },
  {
   "cell_type": "code",
   "execution_count": 63,
   "id": "66f5244d",
   "metadata": {},
   "outputs": [
    {
     "data": {
      "text/plain": [
       "F_onewayResult(statistic=30.65461769112108, pvalue=8.630701393554627e-25)"
      ]
     },
     "execution_count": 63,
     "metadata": {},
     "output_type": "execute_result"
    }
   ],
   "source": [
    "#considering skill move as categorical variable \n",
    "#over_all rating as numerical variable \n",
    "\n",
    "# ANOVA test\n",
    "\n",
    "#Hypothesis formation\n",
    "# Ho: Mean of all categories are equal (No effect)\n",
    "# Ha: Mean of any of the categories are not equal (effect)\n",
    "\n",
    "SM_1=dfifa[dfifa['Skill Moves']==1]['Overall_rating']\n",
    "SM_2=dfifa[dfifa['Skill Moves']==2]['Overall_rating']\n",
    "SM_3=dfifa[dfifa['Skill Moves']==3]['Overall_rating']\n",
    "SM_4=dfifa[dfifa['Skill Moves']==4]['Overall_rating']\n",
    "SM_5=dfifa[dfifa['Skill Moves']==5]['Overall_rating']\n",
    "\n",
    "stats.f_oneway(SM_1,SM_2,SM_3,SM_4,SM_5)"
   ]
  },
  {
   "cell_type": "code",
   "execution_count": null,
   "id": "43466ec6",
   "metadata": {},
   "outputs": [],
   "source": [
    "INFERENCE:\n",
    "# Pvalue=0.0\n",
    "# Siglvl=0.05\n",
    "# Pvalue<Siglvl, Hence, Ho is rejected,Ha is selected \n",
    "# Implies, skill move have any effect in overall rating"
   ]
  },
  {
   "cell_type": "code",
   "execution_count": 66,
   "id": "4129c060",
   "metadata": {},
   "outputs": [
    {
     "data": {
      "image/png": "[encoded data removed]",
      "text/plain": [
       "<Figure size 432x288 with 1 Axes>"
      ]
     },
     "metadata": {
      "needs_background": "light"
     },
     "output_type": "display_data"
    }
   ],
   "source": [
    "sb.boxplot(data=dfifa,x=dfifa['Skill Moves'],y=dfifa['Overall_rating'])\n",
    "plt.show()"
   ]
  },
  {
   "cell_type": "markdown",
   "id": "c97aa094",
   "metadata": {},
   "source": [
    "INFERENCE:\n",
    "from the above graph, we could observe that, there median of overall rating is not aline w.r.t to skill moves categories. \n",
    "where Skill moves 5 having the highest average overall rating and skill moves 3 average being the lowest. "
   ]
  },
  {
   "cell_type": "code",
   "execution_count": null,
   "id": "8dd9ed3d",
   "metadata": {},
   "outputs": [],
   "source": []
  }
 ],
 "metadata": {
  "kernelspec": {
   "display_name": "Python 3",
   "language": "python",
   "name": "python3"
  },
  "language_info": {
   "codemirror_mode": {
    "name": "ipython",
    "version": 3
   },
   "file_extension": ".py",
   "mimetype": "text/x-python",
   "name": "python",
   "nbconvert_exporter": "python",
   "pygments_lexer": "ipython3",
   "version": "3.8.8"
  }
 },
 "nbformat": 4,
 "nbformat_minor": 5
}
